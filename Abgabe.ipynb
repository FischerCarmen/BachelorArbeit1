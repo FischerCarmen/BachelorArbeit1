{
 "cells": [
  {
   "cell_type": "raw",
   "id": "99ad9678-3eb5-4f01-a349-ac1d52f8f370",
   "metadata": {},
   "source": [
    "Fischer Wahlfachprojekt 2\n",
    "\n",
    "Vergleich von Machine Learning frameworks \n",
    "* Tensorflow\n",
    "* Prophet\n",
    "* Keras\n",
    "* Pytorch"
   ]
  },
  {
   "cell_type": "raw",
   "id": "988d5a9d-b0c5-4de5-b5e8-e9bfc1cd669e",
   "metadata": {},
   "source": [
    "TENSORFLOW\n",
    "1. import statements\n",
    "2. Aufbereitung der Trainingsdaten\n",
    "3. Training\n",
    "4. Ergebnisse"
   ]
  }
 ],
 "metadata": {
  "kernelspec": {
   "display_name": "Python 3 (ipykernel)",
   "language": "python",
   "name": "python3"
  },
  "language_info": {
   "codemirror_mode": {
    "name": "ipython",
    "version": 3
   },
   "file_extension": ".py",
   "mimetype": "text/x-python",
   "name": "python",
   "nbconvert_exporter": "python",
   "pygments_lexer": "ipython3",
   "version": "3.12.3"
  }
 },
 "nbformat": 4,
 "nbformat_minor": 5
}
